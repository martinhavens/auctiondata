{
  "nbformat": 4,
  "nbformat_minor": 0,
  "metadata": {
    "colab": {
      "provenance": []
    },
    "kernelspec": {
      "name": "python3",
      "display_name": "Python 3"
    },
    "language_info": {
      "name": "python"
    },
    "widgets": {
      "application/vnd.jupyter.widget-state+json": {
        "19c576f90b3047849fc5f84971c2a62e": {
          "model_module": "@jupyter-widgets/controls",
          "model_name": "DropdownModel",
          "model_module_version": "1.5.0",
          "state": {
            "_dom_classes": [],
            "_model_module": "@jupyter-widgets/controls",
            "_model_module_version": "1.5.0",
            "_model_name": "DropdownModel",
            "_options_labels": [
              "KIA",
              "VOLVO",
              "NISSAN",
              "CHEVROLET",
              "FORD",
              "BMW",
              "HYUNDAI",
              "CADILLAC",
              "INFINITI",
              "MITSUBISHI",
              "MERCEDES-BENZ",
              "JEEP",
              "MAZDA",
              "LEXUS",
              "MINI",
              "LINCOLN",
              "VOLKSWAGEN",
              "TOYOTA",
              "SCION",
              "SUBARU",
              "ACURA",
              "AUDI",
              "DODGE",
              "CHRYSLER",
              "HONDA",
              "GMC",
              "RAM",
              "BUICK",
              "PONTIAC",
              "LAND ROVER",
              "HUMMER",
              "SATURN",
              "FIAT",
              "PORSCHE"
            ],
            "_view_count": null,
            "_view_module": "@jupyter-widgets/controls",
            "_view_module_version": "1.5.0",
            "_view_name": "DropdownView",
            "description": "Make:",
            "description_tooltip": null,
            "disabled": false,
            "index": 24,
            "layout": "IPY_MODEL_d39b443af33d4420b7428924e1a93813",
            "style": "IPY_MODEL_667dff3eb22f4adc8199f6767775aa97"
          }
        },
        "d39b443af33d4420b7428924e1a93813": {
          "model_module": "@jupyter-widgets/base",
          "model_name": "LayoutModel",
          "model_module_version": "1.2.0",
          "state": {
            "_model_module": "@jupyter-widgets/base",
            "_model_module_version": "1.2.0",
            "_model_name": "LayoutModel",
            "_view_count": null,
            "_view_module": "@jupyter-widgets/base",
            "_view_module_version": "1.2.0",
            "_view_name": "LayoutView",
            "align_content": null,
            "align_items": null,
            "align_self": null,
            "border": null,
            "bottom": null,
            "display": null,
            "flex": null,
            "flex_flow": null,
            "grid_area": null,
            "grid_auto_columns": null,
            "grid_auto_flow": null,
            "grid_auto_rows": null,
            "grid_column": null,
            "grid_gap": null,
            "grid_row": null,
            "grid_template_areas": null,
            "grid_template_columns": null,
            "grid_template_rows": null,
            "height": null,
            "justify_content": null,
            "justify_items": null,
            "left": null,
            "margin": null,
            "max_height": null,
            "max_width": null,
            "min_height": null,
            "min_width": null,
            "object_fit": null,
            "object_position": null,
            "order": null,
            "overflow": null,
            "overflow_x": null,
            "overflow_y": null,
            "padding": null,
            "right": null,
            "top": null,
            "visibility": null,
            "width": null
          }
        },
        "667dff3eb22f4adc8199f6767775aa97": {
          "model_module": "@jupyter-widgets/controls",
          "model_name": "DescriptionStyleModel",
          "model_module_version": "1.5.0",
          "state": {
            "_model_module": "@jupyter-widgets/controls",
            "_model_module_version": "1.5.0",
            "_model_name": "DescriptionStyleModel",
            "_view_count": null,
            "_view_module": "@jupyter-widgets/base",
            "_view_module_version": "1.2.0",
            "_view_name": "StyleView",
            "description_width": ""
          }
        },
        "663a4cb322e648bb9adf50c41a034214": {
          "model_module": "@jupyter-widgets/controls",
          "model_name": "DropdownModel",
          "model_module_version": "1.5.0",
          "state": {
            "_dom_classes": [],
            "_model_module": "@jupyter-widgets/controls",
            "_model_module_version": "1.5.0",
            "_model_name": "DropdownModel",
            "_options_labels": [
              "ACCORD",
              "CR-V",
              "CIVIC",
              "FIT",
              "PILOT",
              "ODYSSEY",
              "CROSSTOUR"
            ],
            "_view_count": null,
            "_view_module": "@jupyter-widgets/controls",
            "_view_module_version": "1.5.0",
            "_view_name": "DropdownView",
            "description": "Model:",
            "description_tooltip": null,
            "disabled": false,
            "index": 2,
            "layout": "IPY_MODEL_4f163d5c2cfa4431bfa51d6fd321d2c4",
            "style": "IPY_MODEL_cede07548df44b8d82fee9dab79025dc"
          }
        },
        "4f163d5c2cfa4431bfa51d6fd321d2c4": {
          "model_module": "@jupyter-widgets/base",
          "model_name": "LayoutModel",
          "model_module_version": "1.2.0",
          "state": {
            "_model_module": "@jupyter-widgets/base",
            "_model_module_version": "1.2.0",
            "_model_name": "LayoutModel",
            "_view_count": null,
            "_view_module": "@jupyter-widgets/base",
            "_view_module_version": "1.2.0",
            "_view_name": "LayoutView",
            "align_content": null,
            "align_items": null,
            "align_self": null,
            "border": null,
            "bottom": null,
            "display": null,
            "flex": null,
            "flex_flow": null,
            "grid_area": null,
            "grid_auto_columns": null,
            "grid_auto_flow": null,
            "grid_auto_rows": null,
            "grid_column": null,
            "grid_gap": null,
            "grid_row": null,
            "grid_template_areas": null,
            "grid_template_columns": null,
            "grid_template_rows": null,
            "height": null,
            "justify_content": null,
            "justify_items": null,
            "left": null,
            "margin": null,
            "max_height": null,
            "max_width": null,
            "min_height": null,
            "min_width": null,
            "object_fit": null,
            "object_position": null,
            "order": null,
            "overflow": null,
            "overflow_x": null,
            "overflow_y": null,
            "padding": null,
            "right": null,
            "top": null,
            "visibility": null,
            "width": null
          }
        },
        "cede07548df44b8d82fee9dab79025dc": {
          "model_module": "@jupyter-widgets/controls",
          "model_name": "DescriptionStyleModel",
          "model_module_version": "1.5.0",
          "state": {
            "_model_module": "@jupyter-widgets/controls",
            "_model_module_version": "1.5.0",
            "_model_name": "DescriptionStyleModel",
            "_view_count": null,
            "_view_module": "@jupyter-widgets/base",
            "_view_module_version": "1.2.0",
            "_view_name": "StyleView",
            "description_width": ""
          }
        },
        "bec3a7d1389749f3b3def90767c37376": {
          "model_module": "@jupyter-widgets/controls",
          "model_name": "DropdownModel",
          "model_module_version": "1.5.0",
          "state": {
            "_dom_classes": [],
            "_model_module": "@jupyter-widgets/controls",
            "_model_module_version": "1.5.0",
            "_model_name": "DropdownModel",
            "_options_labels": [
              "LX",
              "EX",
              "EX-L",
              "SI",
              "HYBRID"
            ],
            "_view_count": null,
            "_view_module": "@jupyter-widgets/controls",
            "_view_module_version": "1.5.0",
            "_view_name": "DropdownView",
            "description": "",
            "description_tooltip": null,
            "disabled": false,
            "index": 3,
            "layout": "IPY_MODEL_c15f4c2f0b8344258ee03a68115358e5",
            "style": "IPY_MODEL_1f44202022014a1788d8b9d55faa61b4"
          }
        },
        "c15f4c2f0b8344258ee03a68115358e5": {
          "model_module": "@jupyter-widgets/base",
          "model_name": "LayoutModel",
          "model_module_version": "1.2.0",
          "state": {
            "_model_module": "@jupyter-widgets/base",
            "_model_module_version": "1.2.0",
            "_model_name": "LayoutModel",
            "_view_count": null,
            "_view_module": "@jupyter-widgets/base",
            "_view_module_version": "1.2.0",
            "_view_name": "LayoutView",
            "align_content": null,
            "align_items": null,
            "align_self": null,
            "border": null,
            "bottom": null,
            "display": null,
            "flex": null,
            "flex_flow": null,
            "grid_area": null,
            "grid_auto_columns": null,
            "grid_auto_flow": null,
            "grid_auto_rows": null,
            "grid_column": null,
            "grid_gap": null,
            "grid_row": null,
            "grid_template_areas": null,
            "grid_template_columns": null,
            "grid_template_rows": null,
            "height": null,
            "justify_content": null,
            "justify_items": null,
            "left": null,
            "margin": null,
            "max_height": null,
            "max_width": null,
            "min_height": null,
            "min_width": null,
            "object_fit": null,
            "object_position": null,
            "order": null,
            "overflow": null,
            "overflow_x": null,
            "overflow_y": null,
            "padding": null,
            "right": null,
            "top": null,
            "visibility": null,
            "width": null
          }
        },
        "1f44202022014a1788d8b9d55faa61b4": {
          "model_module": "@jupyter-widgets/controls",
          "model_name": "DescriptionStyleModel",
          "model_module_version": "1.5.0",
          "state": {
            "_model_module": "@jupyter-widgets/controls",
            "_model_module_version": "1.5.0",
            "_model_name": "DescriptionStyleModel",
            "_view_count": null,
            "_view_module": "@jupyter-widgets/base",
            "_view_module_version": "1.2.0",
            "_view_name": "StyleView",
            "description_width": ""
          }
        },
        "b36ae9f80d5942068b97378753a86fc8": {
          "model_module": "@jupyter-widgets/controls",
          "model_name": "DropdownModel",
          "model_module_version": "1.5.0",
          "state": {
            "_dom_classes": [],
            "_model_module": "@jupyter-widgets/controls",
            "_model_module_version": "1.5.0",
            "_model_name": "DropdownModel",
            "_options_labels": [
              "1.0",
              "2.0",
              "3.0",
              "4.0",
              "5.0"
            ],
            "_view_count": null,
            "_view_module": "@jupyter-widgets/controls",
            "_view_module_version": "1.5.0",
            "_view_name": "DropdownView",
            "description": "Condition:",
            "description_tooltip": null,
            "disabled": false,
            "index": 3,
            "layout": "IPY_MODEL_2f46c0c6756940c68ad994022e45cbfb",
            "style": "IPY_MODEL_632a3f8ef98248eab9634aadba968145"
          }
        },
        "2f46c0c6756940c68ad994022e45cbfb": {
          "model_module": "@jupyter-widgets/base",
          "model_name": "LayoutModel",
          "model_module_version": "1.2.0",
          "state": {
            "_model_module": "@jupyter-widgets/base",
            "_model_module_version": "1.2.0",
            "_model_name": "LayoutModel",
            "_view_count": null,
            "_view_module": "@jupyter-widgets/base",
            "_view_module_version": "1.2.0",
            "_view_name": "LayoutView",
            "align_content": null,
            "align_items": null,
            "align_self": null,
            "border": null,
            "bottom": null,
            "display": null,
            "flex": null,
            "flex_flow": null,
            "grid_area": null,
            "grid_auto_columns": null,
            "grid_auto_flow": null,
            "grid_auto_rows": null,
            "grid_column": null,
            "grid_gap": null,
            "grid_row": null,
            "grid_template_areas": null,
            "grid_template_columns": null,
            "grid_template_rows": null,
            "height": null,
            "justify_content": null,
            "justify_items": null,
            "left": null,
            "margin": null,
            "max_height": null,
            "max_width": null,
            "min_height": null,
            "min_width": null,
            "object_fit": null,
            "object_position": null,
            "order": null,
            "overflow": null,
            "overflow_x": null,
            "overflow_y": null,
            "padding": null,
            "right": null,
            "top": null,
            "visibility": null,
            "width": null
          }
        },
        "632a3f8ef98248eab9634aadba968145": {
          "model_module": "@jupyter-widgets/controls",
          "model_name": "DescriptionStyleModel",
          "model_module_version": "1.5.0",
          "state": {
            "_model_module": "@jupyter-widgets/controls",
            "_model_module_version": "1.5.0",
            "_model_name": "DescriptionStyleModel",
            "_view_count": null,
            "_view_module": "@jupyter-widgets/base",
            "_view_module_version": "1.2.0",
            "_view_name": "StyleView",
            "description_width": ""
          }
        },
        "b4115f1c09994f5c840b7bc2d1f597b1": {
          "model_module": "@jupyter-widgets/controls",
          "model_name": "DropdownModel",
          "model_module_version": "1.5.0",
          "state": {
            "_dom_classes": [],
            "_model_module": "@jupyter-widgets/controls",
            "_model_module_version": "1.5.0",
            "_model_name": "DropdownModel",
            "_options_labels": [
              "0",
              "2000",
              "4000",
              "6000",
              "8000",
              "10000",
              "12000",
              "14000",
              "16000",
              "18000",
              "20000",
              "22000",
              "24000",
              "26000",
              "28000",
              "30000",
              "32000",
              "34000",
              "36000",
              "38000",
              "40000",
              "42000",
              "44000",
              "46000",
              "48000",
              "50000",
              "52000",
              "54000",
              "56000",
              "58000",
              "60000",
              "62000",
              "64000",
              "66000",
              "68000",
              "70000",
              "72000",
              "74000",
              "76000",
              "78000",
              "80000",
              "82000",
              "84000",
              "86000",
              "88000",
              "90000",
              "92000",
              "94000",
              "96000",
              "98000",
              "100000",
              "102000",
              "104000",
              "106000",
              "108000",
              "110000",
              "112000",
              "114000",
              "116000",
              "118000",
              "120000",
              "122000",
              "124000",
              "126000",
              "128000",
              "130000",
              "132000",
              "134000",
              "136000",
              "138000",
              "140000",
              "142000",
              "144000",
              "146000",
              "148000",
              "150000",
              "152000",
              "154000",
              "156000",
              "158000",
              "160000",
              "162000",
              "164000",
              "166000",
              "168000",
              "170000",
              "172000",
              "174000",
              "176000",
              "178000",
              "180000",
              "182000",
              "184000",
              "186000",
              "188000",
              "190000",
              "192000",
              "194000",
              "196000",
              "198000",
              "200000",
              "202000",
              "204000",
              "206000",
              "208000",
              "210000",
              "212000",
              "214000",
              "216000",
              "218000",
              "220000",
              "222000",
              "224000",
              "226000",
              "228000",
              "230000",
              "232000",
              "234000",
              "236000",
              "238000",
              "240000",
              "242000",
              "244000",
              "246000",
              "248000",
              "250000",
              "252000",
              "254000",
              "256000",
              "258000",
              "260000",
              "262000",
              "264000",
              "266000",
              "268000",
              "270000",
              "272000",
              "274000",
              "276000",
              "278000",
              "280000",
              "282000",
              "284000",
              "286000",
              "288000",
              "290000",
              "292000",
              "294000",
              "296000",
              "298000",
              "300000",
              "302000",
              "304000",
              "306000",
              "308000",
              "310000",
              "312000",
              "314000",
              "316000",
              "318000",
              "320000",
              "322000",
              "324000",
              "326000",
              "328000",
              "330000",
              "332000",
              "334000",
              "336000",
              "338000",
              "340000",
              "342000",
              "344000",
              "346000",
              "348000",
              "350000",
              "352000",
              "354000",
              "356000",
              "358000",
              "360000",
              "362000",
              "364000",
              "366000",
              "368000",
              "370000",
              "372000",
              "374000",
              "376000",
              "378000",
              "380000",
              "382000",
              "384000",
              "386000",
              "388000",
              "390000",
              "392000",
              "394000",
              "396000",
              "398000"
            ],
            "_view_count": null,
            "_view_module": "@jupyter-widgets/controls",
            "_view_module_version": "1.5.0",
            "_view_name": "DropdownView",
            "description": "Mileage:",
            "description_tooltip": null,
            "disabled": false,
            "index": 28,
            "layout": "IPY_MODEL_ef7f5871bd4f406cb81d2d7e2b9bb09a",
            "style": "IPY_MODEL_b4a6e9e7e3524dca807a5c02a1fd152a"
          }
        },
        "ef7f5871bd4f406cb81d2d7e2b9bb09a": {
          "model_module": "@jupyter-widgets/base",
          "model_name": "LayoutModel",
          "model_module_version": "1.2.0",
          "state": {
            "_model_module": "@jupyter-widgets/base",
            "_model_module_version": "1.2.0",
            "_model_name": "LayoutModel",
            "_view_count": null,
            "_view_module": "@jupyter-widgets/base",
            "_view_module_version": "1.2.0",
            "_view_name": "LayoutView",
            "align_content": null,
            "align_items": null,
            "align_self": null,
            "border": null,
            "bottom": null,
            "display": null,
            "flex": null,
            "flex_flow": null,
            "grid_area": null,
            "grid_auto_columns": null,
            "grid_auto_flow": null,
            "grid_auto_rows": null,
            "grid_column": null,
            "grid_gap": null,
            "grid_row": null,
            "grid_template_areas": null,
            "grid_template_columns": null,
            "grid_template_rows": null,
            "height": null,
            "justify_content": null,
            "justify_items": null,
            "left": null,
            "margin": null,
            "max_height": null,
            "max_width": null,
            "min_height": null,
            "min_width": null,
            "object_fit": null,
            "object_position": null,
            "order": null,
            "overflow": null,
            "overflow_x": null,
            "overflow_y": null,
            "padding": null,
            "right": null,
            "top": null,
            "visibility": null,
            "width": null
          }
        },
        "b4a6e9e7e3524dca807a5c02a1fd152a": {
          "model_module": "@jupyter-widgets/controls",
          "model_name": "DescriptionStyleModel",
          "model_module_version": "1.5.0",
          "state": {
            "_model_module": "@jupyter-widgets/controls",
            "_model_module_version": "1.5.0",
            "_model_name": "DescriptionStyleModel",
            "_view_count": null,
            "_view_module": "@jupyter-widgets/base",
            "_view_module_version": "1.2.0",
            "_view_name": "StyleView",
            "description_width": ""
          }
        },
        "688ae1772b59469392fb025e33292f4a": {
          "model_module": "@jupyter-widgets/controls",
          "model_name": "DropdownModel",
          "model_module_version": "1.5.0",
          "state": {
            "_dom_classes": [],
            "_model_module": "@jupyter-widgets/controls",
            "_model_module_version": "1.5.0",
            "_model_name": "DropdownModel",
            "_options_labels": [
              "2004",
              "2005",
              "2006",
              "2007",
              "2008",
              "2009",
              "2010",
              "2011",
              "2012",
              "2013",
              "2014"
            ],
            "_view_count": null,
            "_view_module": "@jupyter-widgets/controls",
            "_view_module_version": "1.5.0",
            "_view_name": "DropdownView",
            "description": "Year:",
            "description_tooltip": null,
            "disabled": false,
            "index": 7,
            "layout": "IPY_MODEL_53a6f595e747488997c6fb67a039b4d1",
            "style": "IPY_MODEL_bf6a776794fc49ae9412d217fae2a380"
          }
        },
        "53a6f595e747488997c6fb67a039b4d1": {
          "model_module": "@jupyter-widgets/base",
          "model_name": "LayoutModel",
          "model_module_version": "1.2.0",
          "state": {
            "_model_module": "@jupyter-widgets/base",
            "_model_module_version": "1.2.0",
            "_model_name": "LayoutModel",
            "_view_count": null,
            "_view_module": "@jupyter-widgets/base",
            "_view_module_version": "1.2.0",
            "_view_name": "LayoutView",
            "align_content": null,
            "align_items": null,
            "align_self": null,
            "border": null,
            "bottom": null,
            "display": null,
            "flex": null,
            "flex_flow": null,
            "grid_area": null,
            "grid_auto_columns": null,
            "grid_auto_flow": null,
            "grid_auto_rows": null,
            "grid_column": null,
            "grid_gap": null,
            "grid_row": null,
            "grid_template_areas": null,
            "grid_template_columns": null,
            "grid_template_rows": null,
            "height": null,
            "justify_content": null,
            "justify_items": null,
            "left": null,
            "margin": null,
            "max_height": null,
            "max_width": null,
            "min_height": null,
            "min_width": null,
            "object_fit": null,
            "object_position": null,
            "order": null,
            "overflow": null,
            "overflow_x": null,
            "overflow_y": null,
            "padding": null,
            "right": null,
            "top": null,
            "visibility": null,
            "width": null
          }
        },
        "bf6a776794fc49ae9412d217fae2a380": {
          "model_module": "@jupyter-widgets/controls",
          "model_name": "DescriptionStyleModel",
          "model_module_version": "1.5.0",
          "state": {
            "_model_module": "@jupyter-widgets/controls",
            "_model_module_version": "1.5.0",
            "_model_name": "DescriptionStyleModel",
            "_view_count": null,
            "_view_module": "@jupyter-widgets/base",
            "_view_module_version": "1.2.0",
            "_view_name": "StyleView",
            "description_width": ""
          }
        }
      }
    }
  },
  "cells": [
    {
      "cell_type": "markdown",
      "source": [
        "## Used vehicle auction price predictions.\n",
        "Select a vehicle make, model, and trim and start processing for an estimate."
      ],
      "metadata": {
        "id": "lqIk_rvb7L90"
      }
    },
    {
      "cell_type": "code",
      "execution_count": 147,
      "metadata": {
        "id": "qzQGdOL-I9nd",
        "colab": {
          "base_uri": "https://localhost:8080/",
          "height": 49,
          "referenced_widgets": [
            "19c576f90b3047849fc5f84971c2a62e",
            "d39b443af33d4420b7428924e1a93813",
            "667dff3eb22f4adc8199f6767775aa97"
          ]
        },
        "cellView": "form",
        "outputId": "a8cbfa38-a391-480c-de7e-2c74beff6f96"
      },
      "outputs": [
        {
          "output_type": "display_data",
          "data": {
            "text/plain": [
              "Dropdown(description='Make:', options=('KIA', 'VOLVO', 'NISSAN', 'CHEVROLET', 'FORD', 'BMW', 'HYUNDAI', 'CADIL…"
            ],
            "application/vnd.jupyter.widget-view+json": {
              "version_major": 2,
              "version_minor": 0,
              "model_id": "19c576f90b3047849fc5f84971c2a62e"
            }
          },
          "metadata": {}
        }
      ],
      "source": [
        "#@title Click play. Then select a vehicle make.\n",
        "import sklearn\n",
        "import pandas as pd\n",
        "%matplotlib inline\n",
        "import matplotlib.pyplot as plt\n",
        "import seaborn as sns\n",
        "import numpy as np\n",
        "from sklearn.model_selection import train_test_split\n",
        "from sklearn.metrics import accuracy_score\n",
        "import ipywidgets as widgets\n",
        "from sklearn.metrics import r2_score\n",
        "from sklearn import metrics\n",
        "from sklearn.linear_model import LinearRegression\n",
        "\n",
        "\n",
        "url = 'https://raw.githubusercontent.com/martinhavens/auctiondata/main/car_prices.csv'\n",
        "df = pd.read_csv(url, dtype={\"year\": \"string\", \"make\": \"string\", \"model\": \"string\",\"trim\": \"string\",\"body\": \"string\",\n",
        "                             \"transmission\": \"string\",\"vin\": \"string\",\"state\": \"string\",\"condition\": \"string\",\"odometer\": \"string\",\n",
        "                             \"color\": \"string\",\"interior\": \"string\",\"seller\": \"string\",\"mmr\": \"string\",\"sellingprice\": \"string\",\n",
        "                             \"saledate\": \"string\"})\n",
        "\n",
        "#Drop rows with condition as null\n",
        "df['condition'].replace('', np.nan, inplace=True)\n",
        "df['transmission'].replace('', np.nan, inplace=True)\n",
        "condition1 = df['transmission'].notnull() & df['condition'].isnull()\n",
        "selected_rows1 = df[condition1]\n",
        "df.drop(selected_rows1.index, inplace=True)\n",
        "\n",
        "#Drop the essential rows with NaN values\n",
        "df = df.dropna(subset=['condition', 'year', 'odometer', 'mmr', 'sellingprice', 'make', 'model', 'trim']).copy()\n",
        "df = df.astype({\"year\":int, \"condition\":float, \"odometer\":int, \"mmr\":int, \"sellingprice\":int}).copy()\n",
        "#Drop the outlying sellingprice rows\n",
        "q05 = df['sellingprice'].quantile(0.05)\n",
        "q95 = df['sellingprice'].quantile(0.95)\n",
        "df = df[(df['sellingprice'] >= q05) & (df['sellingprice'] <= q95)]\n",
        "\n",
        "#Set the non-quantitative values to be uniform\n",
        "df.loc[:,('make')] = df.loc[:,('make')].str.upper()\n",
        "df.loc[:,('model')] = df.loc[:,('model')].str.upper()\n",
        "df.loc[:, ('trim')] = df.loc[:, ('trim')].str.upper()\n",
        "\n",
        "#Encode the odometer, year, and condition values\n",
        "def dummiesMaker(dataFrame_variable, comparison):\n",
        "\n",
        "  range1 = comparison['odometer'].quantile(0.2).copy()\n",
        "  range2 = comparison['odometer'].quantile(0.4).copy()\n",
        "  range3 = comparison['odometer'].quantile(0.6).copy()\n",
        "  range4 = comparison['odometer'].quantile(0.8).copy()\n",
        "  range5 = comparison['odometer'].quantile(1).copy()\n",
        "\n",
        "  new_df = pd.DataFrame(index=dataFrame_variable.index)\n",
        "  new_df['mileage_L'] = (dataFrame_variable['odometer'] < range1).astype(int)\n",
        "  new_df['mileage_LM'] = ((dataFrame_variable['odometer'] >= range1) & (dataFrame_variable['odometer'] < range2)).astype(int)\n",
        "  new_df['mileage_M'] = ((dataFrame_variable['odometer'] >= range2) & (dataFrame_variable['odometer'] < range3)).astype(int)\n",
        "  new_df['mileage_MH'] = ((dataFrame_variable['odometer'] >= range3) & (dataFrame_variable['odometer'] < range4)).astype(int)\n",
        "  new_df['mileage_H'] = (dataFrame_variable['odometer'] >= range4).astype(int)\n",
        "\n",
        "  dataFrame_variable = pd.concat([dataFrame_variable.drop('odometer', axis=1), new_df], axis=1)\n",
        "\n",
        "  range1 = comparison['condition'].quantile(0.2).copy()\n",
        "  range2 = comparison['condition'].quantile(0.4).copy()\n",
        "  range3 = comparison['condition'].quantile(0.6).copy()\n",
        "  range4 = comparison['condition'].quantile(0.8).copy()\n",
        "  range5 = comparison['condition'].quantile(1).copy()\n",
        "  new_df = pd.DataFrame(index=dataFrame_variable.index)\n",
        "  new_df['condition_L'] = (dataFrame_variable['condition'] < range1).astype(int)\n",
        "  new_df['condition_LM'] = ((dataFrame_variable['condition'] >= range1) & (dataFrame_variable['condition'] < range2)).astype(int)\n",
        "  new_df['condition_M'] = ((dataFrame_variable['condition'] >= range2) & (dataFrame_variable['condition'] < range3)).astype(int)\n",
        "  new_df['condition_MH'] = ((dataFrame_variable['condition'] >= range3) & (dataFrame_variable['condition'] < range4)).astype(int)\n",
        "  new_df['condition_H'] = (dataFrame_variable['condition'] >= range4).astype(int)\n",
        "  dataFrame_variable = pd.concat([dataFrame_variable.drop('condition', axis=1), new_df], axis=1)\n",
        "\n",
        "  range1 = comparison['year'].quantile(0.2).copy()\n",
        "  range2 = comparison['year'].quantile(0.4).copy()\n",
        "  range3 = comparison['year'].quantile(0.6).copy()\n",
        "  range4 = comparison['year'].quantile(0.8).copy()\n",
        "  range5 = comparison['year'].quantile(1).copy()\n",
        "  new_df = pd.DataFrame(index=dataFrame_variable.index)\n",
        "  new_df['year_L'] = (dataFrame_variable['year'] < range1).astype(int)\n",
        "  new_df['year_LM'] = ((dataFrame_variable['year'] >= range1) & (dataFrame_variable['year'] < range2)).astype(int)\n",
        "  new_df['year_M'] = ((dataFrame_variable['year'] >= range2) & (dataFrame_variable['year'] < range3)).astype(int)\n",
        "  new_df['year_MH'] = ((dataFrame_variable['year'] >= range3) & (dataFrame_variable['year'] < range4)).astype(int)\n",
        "  new_df['year_H'] = (dataFrame_variable['year'] >= range4).astype(int)\n",
        "  dataFrame_variable = pd.concat([dataFrame_variable.drop('year', axis=1), new_df], axis=1)\n",
        "\n",
        "  return dataFrame_variable\n",
        "\n",
        "df_copy = df\n",
        "\n",
        "#Keep only Make/Model/Trim hierachies with more than 35 instances\n",
        "counts = df.groupby(['make', 'model', 'trim']).size().reset_index(name='count')\n",
        "mask = counts['count'] > 35\n",
        "to_remove = counts.loc[~mask, ['make', 'model', 'trim']]\n",
        "df = df.set_index(['make', 'model', 'trim']).drop(to_remove.set_index(['make', 'model', 'trim']).index).reset_index()\n",
        "\n",
        "#Split the dataframe into\n",
        "train=df\n",
        "\n",
        "from google.colab import output\n",
        "output.clear()\n",
        "\n",
        "make_list = train.make.unique()\n",
        "fruit_picker = widgets.Dropdown(options=make_list, value=None, description=\"Make:\")\n",
        "fruit_picker"
      ]
    },
    {
      "cell_type": "code",
      "source": [
        "#@title Click play. Then select a vehicle model.\n",
        "if fruit_picker.value == None:\n",
        "  print(\"ERROR: Select a valid 'Make' from the dropdown above. Then, Re-run this code box.\")\n",
        "else:\n",
        "  customer_selected_data = train.loc[train['make'] == fruit_picker.value].copy()\n",
        "  print(f\"SUCCESS: Filtered by {fruit_picker.value} make type. \")\n",
        "  model_list = customer_selected_data.model.unique()\n",
        "  fruit_picker2 = widgets.Dropdown(options=model_list, value = None, description=\"Model:\")\n",
        "fruit_picker2\n"
      ],
      "metadata": {
        "colab": {
          "base_uri": "https://localhost:8080/",
          "height": 66,
          "referenced_widgets": [
            "663a4cb322e648bb9adf50c41a034214",
            "4f163d5c2cfa4431bfa51d6fd321d2c4",
            "cede07548df44b8d82fee9dab79025dc"
          ]
        },
        "id": "buXuCB1WoalM",
        "outputId": "5bf93b1d-5929-4871-bc3f-ee11c399b94f",
        "cellView": "form"
      },
      "execution_count": 148,
      "outputs": [
        {
          "output_type": "stream",
          "name": "stdout",
          "text": [
            "SUCCESS: Filtered by HONDA make type. \n"
          ]
        },
        {
          "output_type": "display_data",
          "data": {
            "text/plain": [
              "Dropdown(description='Model:', options=('ACCORD', 'CR-V', 'CIVIC', 'FIT', 'PILOT', 'ODYSSEY', 'CROSSTOUR'), va…"
            ],
            "application/vnd.jupyter.widget-view+json": {
              "version_major": 2,
              "version_minor": 0,
              "model_id": "663a4cb322e648bb9adf50c41a034214"
            }
          },
          "metadata": {}
        }
      ]
    },
    {
      "cell_type": "code",
      "source": [
        "#@title Click play. Then select a vehicle trim.\n",
        "if fruit_picker2.value == None:\n",
        "  print(\"ERROR: Select a valid 'Model' from the dropdown above. Then, Re-run this code box.\")\n",
        "else:\n",
        "  customer_selected_data = customer_selected_data.loc[customer_selected_data['model'] == fruit_picker2.value]\n",
        "  print(f\"SUCCESS: Filtered by {fruit_picker2.value} model type. \")\n",
        "  trim_list= customer_selected_data.trim.unique()\n",
        "  fruit_picker3 = widgets.Dropdown(options=trim_list, value = None)\n",
        "fruit_picker3"
      ],
      "metadata": {
        "colab": {
          "base_uri": "https://localhost:8080/",
          "height": 66,
          "referenced_widgets": [
            "bec3a7d1389749f3b3def90767c37376",
            "c15f4c2f0b8344258ee03a68115358e5",
            "1f44202022014a1788d8b9d55faa61b4"
          ]
        },
        "id": "4WnrZuQhhW0c",
        "outputId": "796394f8-5a1c-444e-fdd9-b1a6ee193d04",
        "cellView": "form"
      },
      "execution_count": 149,
      "outputs": [
        {
          "output_type": "stream",
          "name": "stdout",
          "text": [
            "SUCCESS: Filtered by CIVIC model type. \n"
          ]
        },
        {
          "output_type": "display_data",
          "data": {
            "text/plain": [
              "Dropdown(options=('LX', 'EX', 'EX-L', 'SI', 'HYBRID'), value=None)"
            ],
            "application/vnd.jupyter.widget-view+json": {
              "version_major": 2,
              "version_minor": 0,
              "model_id": "bec3a7d1389749f3b3def90767c37376"
            }
          },
          "metadata": {}
        }
      ]
    },
    {
      "cell_type": "code",
      "source": [
        "#@title Click play. Then select a vehicle condition (0-low, 5-high).\n",
        "if fruit_picker3.value == None:\n",
        "  print(\"ERROR: Select a valid 'Trim' from the dropdown above. Then, Re-run this code box.\")\n",
        "else:\n",
        "  customer_selected_data = customer_selected_data.loc[customer_selected_data['trim'] == fruit_picker3.value]\n",
        "  print(f\"SUCCESS: Filtered by {fruit_picker3.value} Trim type. \")\n",
        "  arr_condition = np.arange(1, 5.5, 1)\n",
        "  condition_dropdown = widgets.Dropdown(options=arr_condition, value=None, description='Condition:')\n",
        "  arr_mileage = np.arange(0, 400000, 2000)\n",
        "  mileage_dropdown = widgets.Dropdown(options=arr_mileage, value=None, description='Mileage:')\n",
        "  arr_year = np.arange(1984, 2016, 1)\n",
        "  \n",
        "  filtered_df = df[(df['make'] == fruit_picker.value) & (df['model'] == fruit_picker2.value) & (df['trim'] == fruit_picker3.value)]\n",
        "  unique_years = filtered_df['year'].unique() \n",
        "  \n",
        "  year_dropdown = widgets.Dropdown(options=np.sort(unique_years), value=None, description='Year:')\n",
        "condition_dropdown\n"
      ],
      "metadata": {
        "colab": {
          "base_uri": "https://localhost:8080/",
          "height": 66,
          "referenced_widgets": [
            "b36ae9f80d5942068b97378753a86fc8",
            "2f46c0c6756940c68ad994022e45cbfb",
            "632a3f8ef98248eab9634aadba968145"
          ]
        },
        "id": "bwdOLI_s0EAQ",
        "outputId": "420260ab-8853-477b-a2b3-1476952e0378",
        "cellView": "form"
      },
      "execution_count": 150,
      "outputs": [
        {
          "output_type": "stream",
          "name": "stdout",
          "text": [
            "SUCCESS: Filtered by SI Trim type. \n"
          ]
        },
        {
          "output_type": "display_data",
          "data": {
            "text/plain": [
              "Dropdown(description='Condition:', options=(1.0, 2.0, 3.0, 4.0, 5.0), value=None)"
            ],
            "application/vnd.jupyter.widget-view+json": {
              "version_major": 2,
              "version_minor": 0,
              "model_id": "b36ae9f80d5942068b97378753a86fc8"
            }
          },
          "metadata": {}
        }
      ]
    },
    {
      "cell_type": "code",
      "source": [
        "#@title Click play. Then select a vehicle mileage.\n",
        "if condition_dropdown.value == None:\n",
        "  print(\"ERROR: Select a valid 'Condition' from the dropdown above. Then, Re-run this code box.\")\n",
        "else:\n",
        "  print(f\"SUCCESS: Filtered by {condition_dropdown.value} condition. \")\n",
        "mileage_dropdown"
      ],
      "metadata": {
        "id": "ToSLUqjz1cWr",
        "colab": {
          "base_uri": "https://localhost:8080/",
          "height": 66,
          "referenced_widgets": [
            "b4115f1c09994f5c840b7bc2d1f597b1",
            "ef7f5871bd4f406cb81d2d7e2b9bb09a",
            "b4a6e9e7e3524dca807a5c02a1fd152a"
          ]
        },
        "outputId": "f50f305b-9f88-4444-ad59-c5d0a6dbb6fd",
        "cellView": "form"
      },
      "execution_count": 151,
      "outputs": [
        {
          "output_type": "stream",
          "name": "stdout",
          "text": [
            "SUCCESS: Filtered by 4.0 condition. \n"
          ]
        },
        {
          "output_type": "display_data",
          "data": {
            "text/plain": [
              "Dropdown(description='Mileage:', options=(0, 2000, 4000, 6000, 8000, 10000, 12000, 14000, 16000, 18000, 20000,…"
            ],
            "application/vnd.jupyter.widget-view+json": {
              "version_major": 2,
              "version_minor": 0,
              "model_id": "b4115f1c09994f5c840b7bc2d1f597b1"
            }
          },
          "metadata": {}
        }
      ]
    },
    {
      "cell_type": "code",
      "source": [
        "#@title Click play. Then select a vehicle year.\n",
        "if mileage_dropdown.value == None:\n",
        "  print(\"ERROR: Select a valid 'Milage' from the dropdown above. Then, Re-run this code box.\")\n",
        "else:\n",
        "  print(f\"CONTINUE SUCCESS: Filtered by {mileage_dropdown.value} mileage. \")\n",
        "year_dropdown"
      ],
      "metadata": {
        "colab": {
          "base_uri": "https://localhost:8080/",
          "height": 66,
          "referenced_widgets": [
            "688ae1772b59469392fb025e33292f4a",
            "53a6f595e747488997c6fb67a039b4d1",
            "bf6a776794fc49ae9412d217fae2a380"
          ]
        },
        "id": "bcumF4tq1c4P",
        "outputId": "2f7184b2-6254-48ed-e381-0fbaa0c33c25",
        "cellView": "form"
      },
      "execution_count": 152,
      "outputs": [
        {
          "output_type": "stream",
          "name": "stdout",
          "text": [
            "CONTINUE SUCCESS: Filtered by 56000 mileage. \n"
          ]
        },
        {
          "output_type": "display_data",
          "data": {
            "text/plain": [
              "Dropdown(description='Year:', options=(2004, 2005, 2006, 2007, 2008, 2009, 2010, 2011, 2012, 2013, 2014), valu…"
            ],
            "application/vnd.jupyter.widget-view+json": {
              "version_major": 2,
              "version_minor": 0,
              "model_id": "688ae1772b59469392fb025e33292f4a"
            }
          },
          "metadata": {}
        }
      ]
    },
    {
      "cell_type": "code",
      "source": [
        "#@title Skip. But if you modified the model or trim, then click play before continuing.\n",
        "customer_selected_data = train.loc[train['make'] == fruit_picker.value].copy()\n",
        "customer_selected_data = customer_selected_data.loc[customer_selected_data['model'] == fruit_picker2.value]\n",
        "customer_selected_data = customer_selected_data.loc[customer_selected_data['trim'] == fruit_picker3.value]"
      ],
      "metadata": {
        "id": "Es8mIpHewbeO",
        "cellView": "form"
      },
      "execution_count": 41,
      "outputs": []
    },
    {
      "cell_type": "code",
      "source": [
        "#@title - Click play. Start processing. Then view results.\n",
        "if year_dropdown.value == None:\n",
        "  print(\"ERROR: Select a valid 'Year' from the dropdown above. Then, Re-run this code box.\")\n",
        "else:\n",
        "  print(f\"CONTINUE SUCCESS: Filtered by {year_dropdown.value} year.\")\n",
        "  string_to_int = {s: i for i, s in enumerate(customer_selected_data['trim'].unique())}\n",
        "  customer_selected_data['trim'] = customer_selected_data['trim'].map(string_to_int)\n",
        "  comparison_for_later = customer_selected_data.copy()\n",
        "  customer_selected_data = dummiesMaker(customer_selected_data, comparison_for_later)\n",
        "  y = customer_selected_data[\"sellingprice\"]\n",
        "  X = customer_selected_data.drop([\"sellingprice\", \"make\", \"vin\", \"state\", \"body\", \"color\", \"interior\", \"seller\", \"saledate\", \"model\", \"transmission\", \"mmr\"], axis=1).copy()\n",
        "\n",
        "  X_train, X_val, y_train, y_val = train_test_split(X, y, test_size = 0.2, random_state = 21) \n",
        "  max = 0\n",
        "  method = \"\"\n",
        "\n",
        "  linreg=LinearRegression()\n",
        "  linreg.fit(X_train,y_train)\n",
        "  y_pred = linreg.predict(X_val)\n",
        "  r2 = r2_score(y_val, y_pred)\n",
        "  print(\"Linear Regression r2\", r2)\n",
        "  max = r2\n",
        "  method = \"Linear Regression\"\n",
        "\n",
        "  User_val = pd.DataFrame({'trim': ['SE'],\n",
        "                      'year':    [ 2014 ],\n",
        "                      'odometer': [14421],\n",
        "                      'condition':[3.5]})\n",
        "\n",
        "  User_val.at[0, 'trim'] = fruit_picker3.value\n",
        "  User_val['trim'] = User_val['trim'].map(string_to_int)\n",
        "  User_val.at[0, 'year'] = year_dropdown.value\n",
        "  User_val.at[0, 'odometer'] = mileage_dropdown.value\n",
        "  User_val.at[0, 'condition'] = condition_dropdown.value\n",
        "\n",
        "  User_val_for_compare = User_val.copy()\n",
        "  User_val = dummiesMaker(User_val, comparison_for_later)\n",
        "  if method == \"Linear Regression\":\n",
        "    Userval_pred = linreg.predict(User_val)\n",
        "  elif method == \"Logistic Regression\":\n",
        "    Userval_pred = logreg.predict(User_val)\n",
        "  elif method == \"Decision Tree\":\n",
        "    Userval_pred = dectree.predict(User_val)\n",
        "  elif method == \"Random Forest\":\n",
        "    Userval_pred = rf.predict(User_val)\n",
        "\n",
        "  X_subset = X[User_val.columns]\n",
        "  from sklearn.metrics.pairwise import cosine_similarity\n",
        "\n",
        "  # # calculate cosine similarity between each row in the custom dataframe and each row in the original dataframe subset\n",
        "  similarity_scores = cosine_similarity(User_val, X_subset)\n",
        "\n",
        "  # find the row in the original dataframe with the highest similarity score\n",
        "  index_of_most_similar_row = similarity_scores.argmax(axis=None)\n",
        "  most_similar_row = X.iloc[index_of_most_similar_row]\n",
        "\n",
        "  print(\"Most similar row found\")\n",
        "  a = comparison_for_later.iloc[index_of_most_similar_row][['year', 'odometer', 'condition']]\n",
        "\n",
        "  for index, value in a.items():\n",
        "    print(f\"{index:>15}\", end=\"\")\n",
        "  print(\"\")\n",
        "  for value in a.values:\n",
        "    print(f\"{value:>15}\", end=\"\")\n",
        "  print(\"\")\n",
        "\n",
        "  for index, value in most_similar_row.items():\n",
        "    print(f\"{index:>15}\", end=\"\")\n",
        "  print(\"\")\n",
        "  for index, value in most_similar_row.items():\n",
        "    print(f\"{value:>15}\", end=\"\")\n",
        "  print(\"\")\n",
        "\n",
        "  print(\"Database price: [\",y.iloc[index_of_most_similar_row], \"]\")\n",
        "  print(\"User selected parameters\")\n",
        "  b = User_val_for_compare\n",
        "\n",
        "  for index, value in b.items():\n",
        "    if index == 'trim':\n",
        "      continue\n",
        "    print(f\"{index:>15}\", end=\"\")\n",
        "  print(\"\")\n",
        "  for value in b.values.astype(int)[0][1:]:\n",
        "    print(f\"{value:>15}\", end=\"\")\n",
        "  print(\"\")\n",
        "  \n",
        "  for index, value in User_val.items():\n",
        "    print(f\"{index:>15}\", end=\"\")\n",
        "  print(\"\")\n",
        "  for value in User_val.values[0]:\n",
        "    print(f\"{value:>15}\", end=\"\")\n",
        "  print(\"\")\n",
        "  print(\"Predicted price: [\", Userval_pred[0], \"]\")\n",
        "  \n"
      ],
      "metadata": {
        "id": "4BMNS3Ysn38e",
        "colab": {
          "base_uri": "https://localhost:8080/"
        },
        "outputId": "a53e0438-61f9-4fc0-8ce9-786eb6bc13f2",
        "cellView": "form"
      },
      "execution_count": 153,
      "outputs": [
        {
          "output_type": "stream",
          "name": "stdout",
          "text": [
            "CONTINUE SUCCESS: Filtered by 2011 year.\n",
            "Linear Regression r2 0.7563015246458853\n",
            "Most similar row found\n",
            "           year       odometer      condition\n",
            "           2010          63494            3.7\n",
            "           trim      mileage_L     mileage_LM      mileage_M     mileage_MH      mileage_H    condition_L   condition_LM    condition_M   condition_MH    condition_H         year_L        year_LM         year_M        year_MH         year_H\n",
            "              0              0              0              0              1              0              0              0              0              1              0              0              0              1              0              0\n",
            "Database price: [ 12800 ]\n",
            "User selected parameters\n",
            "           year       odometer      condition\n",
            "           2011          56000              4\n",
            "           trim      mileage_L     mileage_LM      mileage_M     mileage_MH      mileage_H    condition_L   condition_LM    condition_M   condition_MH    condition_H         year_L        year_LM         year_M        year_MH         year_H\n",
            "              0              0              0              0              1              0              0              0              0              1              0              0              0              1              0              0\n",
            "Predicted price: [ 13909.378267858649 ]\n"
          ]
        }
      ]
    },
    {
      "cell_type": "code",
      "source": [],
      "metadata": {
        "id": "csEyzKGrlXNy"
      },
      "execution_count": null,
      "outputs": []
    },
    {
      "cell_type": "code",
      "source": [],
      "metadata": {
        "id": "ZvoWS6ZGhKue"
      },
      "execution_count": 17,
      "outputs": []
    },
    {
      "cell_type": "code",
      "source": [],
      "metadata": {
        "id": "M_dIAM8shhlI"
      },
      "execution_count": 11,
      "outputs": []
    },
    {
      "cell_type": "code",
      "source": [],
      "metadata": {
        "id": "wcVYlqfQhWwD"
      },
      "execution_count": null,
      "outputs": []
    },
    {
      "cell_type": "code",
      "source": [],
      "metadata": {
        "id": "xOSZAEaMiJq_"
      },
      "execution_count": 24,
      "outputs": []
    },
    {
      "cell_type": "code",
      "source": [],
      "metadata": {
        "id": "UKl5AZjpkLAm"
      },
      "execution_count": null,
      "outputs": []
    },
    {
      "cell_type": "code",
      "source": [],
      "metadata": {
        "id": "ZRhLmXNOjjAu"
      },
      "execution_count": null,
      "outputs": []
    },
    {
      "cell_type": "code",
      "source": [],
      "metadata": {
        "id": "5ajCZaYyirup"
      },
      "execution_count": null,
      "outputs": []
    },
    {
      "cell_type": "code",
      "source": [],
      "metadata": {
        "id": "LrFPvL2FioXP"
      },
      "execution_count": null,
      "outputs": []
    },
    {
      "cell_type": "code",
      "source": [],
      "metadata": {
        "id": "lgvlGMrTGb0k"
      },
      "execution_count": null,
      "outputs": []
    },
    {
      "cell_type": "code",
      "source": [],
      "metadata": {
        "id": "-XzhwHPrQfdK"
      },
      "execution_count": null,
      "outputs": []
    },
    {
      "cell_type": "code",
      "source": [],
      "metadata": {
        "id": "6bVHlI5cSuJu"
      },
      "execution_count": null,
      "outputs": []
    },
    {
      "cell_type": "code",
      "source": [],
      "metadata": {
        "id": "wkjr1zQdRYpG"
      },
      "execution_count": null,
      "outputs": []
    },
    {
      "cell_type": "code",
      "source": [],
      "metadata": {
        "id": "253dXNNbWpTK"
      },
      "execution_count": null,
      "outputs": []
    },
    {
      "cell_type": "code",
      "source": [],
      "metadata": {
        "id": "s_ZDlK5-2zgY"
      },
      "execution_count": null,
      "outputs": []
    },
    {
      "cell_type": "code",
      "source": [],
      "metadata": {
        "id": "gh14ZznO7KlO"
      },
      "execution_count": null,
      "outputs": []
    },
    {
      "cell_type": "code",
      "source": [],
      "metadata": {
        "id": "jJBcq58t2zZU"
      },
      "execution_count": null,
      "outputs": []
    },
    {
      "cell_type": "code",
      "source": [],
      "metadata": {
        "id": "2pyUzzgx2zPU"
      },
      "execution_count": null,
      "outputs": []
    },
    {
      "cell_type": "code",
      "source": [
        "#Seaborn bar plot\n",
        "plt.figure(figsize=(8,8))\n",
        "aq = sns.barplot(x=['unfiltered data', 'filtered data'], y=[df_copy.shape[0], df.shape[0]])"
      ],
      "metadata": {
        "colab": {
          "base_uri": "https://localhost:8080/",
          "height": 483
        },
        "id": "Arw7QJmgOXqu",
        "outputId": "fc956d45-42d0-47c3-ab21-df19442686db"
      },
      "execution_count": 97,
      "outputs": [
        {
          "output_type": "display_data",
          "data": {
            "text/plain": [
              "<Figure size 576x576 with 1 Axes>"
            ],
            "image/png": "[encoded data removed]"
          },
          "metadata": {
            "needs_background": "light"
          }
        }
      ]
    },
    {
      "cell_type": "code",
      "source": [
        "#Seaborn pair plot\n",
        "df_3d = pd.DataFrame()\n",
        "x = customer_selected_data['condition']\n",
        "y = customer_selected_data['year']\n",
        "z = customer_selected_data['sellingprice']\n",
        "df_3d['condition'] = x\n",
        "df_3d['year'] = y\n",
        "df_3d['sellingprice'] = z\n",
        "\n",
        "sns.pairplot(df_3d)"
      ],
      "metadata": {
        "id": "CzgROfhhcE7L",
        "colab": {
          "base_uri": "https://localhost:8080/",
          "height": 567
        },
        "outputId": "97946490-7e30-4030-9827-3dbaeaeb1dc6"
      },
      "execution_count": 49,
      "outputs": [
        {
          "output_type": "execute_result",
          "data": {
            "text/plain": [
              "<seaborn.axisgrid.PairGrid at 0x7fd5acc04100>"
            ]
          },
          "metadata": {},
          "execution_count": 49
        },
        {
          "output_type": "display_data",
          "data": {
            "text/plain": [
              "<Figure size 540x540 with 12 Axes>"
            ],
            "image/png": "[encoded data removed]"
          },
          "metadata": {
            "needs_background": "light"
          }
        }
      ]
    },
    {
      "cell_type": "code",
      "source": [
        "#Seaborn scatter plot\n",
        "plt.figure(figsize=(8,6))\n",
        "sns.scatterplot(data=comparison_for_later, x=\"condition\", y='sellingprice', hue='odometer')\n",
        "plt.show()"
      ],
      "metadata": {
        "id": "VjxhwSZsag4g",
        "colab": {
          "base_uri": "https://localhost:8080/",
          "height": 388
        },
        "outputId": "5db1a69e-fe33-4969-de5a-0fb5ef274e8b"
      },
      "execution_count": 157,
      "outputs": [
        {
          "output_type": "display_data",
          "data": {
            "text/plain": [
              "<Figure size 576x432 with 1 Axes>"
            ],
            "image/png": "[encoded data removed]"
          },
          "metadata": {
            "needs_background": "light"
          }
        }
      ]
    }
  ]
}